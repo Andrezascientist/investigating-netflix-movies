{
 "cells": [
  {
   "cell_type": "markdown",
   "id": "937acf3c-c077-4ca6-8d90-8f6dd4d13c54",
   "metadata": {},
   "source": [
    "<center><img src=\"redpopcorn.jpg\"></center>"
   ]
  },
  {
   "cell_type": "markdown",
   "id": "5962b2cd-17bb-4ec9-b2d5-68537ca26860",
   "metadata": {},
   "source": [
    "**Netflix**! What started in 1997 as a DVD rental service has since exploded into one of the largest entertainment and media companies.\n",
    "\n",
    "Given the large number of movies and series available on the platform, it is a perfect opportunity to flex your exploratory data analysis skills and dive into the entertainment industry.\n",
    "\n",
    "You work for a production company that specializes in nostalgic styles. You want to do some research on movies released in the 1990's. You'll delve into Netflix data and perform exploratory data analysis to better understand this awesome movie decade!\n",
    "\n",
    "You have been supplied with the dataset `netflix_data.csv`, along with the following table detailing the column names and descriptions. Feel free to experiment further after submitting!\n",
    "\n",
    "## The data\n",
    "### **netflix_data.csv**\n",
    "| Column | Description |\n",
    "|--------|-------------|\n",
    "| `show_id` | The ID of the show |\n",
    "| `type` | Type of show |\n",
    "| `title` | Title of the show |\n",
    "| `director` | Director of the show |\n",
    "| `cast` | Cast of the show |\n",
    "| `country` | Country of origin |\n",
    "| `date_added` | Date added to Netflix |\n",
    "| `release_year` | Year of Netflix release |\n",
    "| `duration` | Duration of the show in minutes |\n",
    "| `description` | Description of the show |\n",
    "| `genre` | Show genre |"
   ]
  },
  {
   "cell_type": "code",
   "execution_count": 1,
   "id": "da8907e6-4571-44ec-af19-1c12b1e7266c",
   "metadata": {},
   "outputs": [
    {
     "data": {
      "text/html": [
       "<div>\n",
       "<style scoped>\n",
       "    .dataframe tbody tr th:only-of-type {\n",
       "        vertical-align: middle;\n",
       "    }\n",
       "\n",
       "    .dataframe tbody tr th {\n",
       "        vertical-align: top;\n",
       "    }\n",
       "\n",
       "    .dataframe thead th {\n",
       "        text-align: right;\n",
       "    }\n",
       "</style>\n",
       "<table border=\"1\" class=\"dataframe\">\n",
       "  <thead>\n",
       "    <tr style=\"text-align: right;\">\n",
       "      <th></th>\n",
       "      <th>show_id</th>\n",
       "      <th>type</th>\n",
       "      <th>title</th>\n",
       "      <th>director</th>\n",
       "      <th>cast</th>\n",
       "      <th>country</th>\n",
       "      <th>date_added</th>\n",
       "      <th>release_year</th>\n",
       "      <th>duration</th>\n",
       "      <th>description</th>\n",
       "      <th>genre</th>\n",
       "    </tr>\n",
       "  </thead>\n",
       "  <tbody>\n",
       "    <tr>\n",
       "      <th>0</th>\n",
       "      <td>s2</td>\n",
       "      <td>Movie</td>\n",
       "      <td>7:19</td>\n",
       "      <td>Jorge Michel Grau</td>\n",
       "      <td>Demián Bichir, Héctor Bonilla, Oscar Serrano, ...</td>\n",
       "      <td>Mexico</td>\n",
       "      <td>December 23, 2016</td>\n",
       "      <td>2016</td>\n",
       "      <td>93</td>\n",
       "      <td>After a devastating earthquake hits Mexico Cit...</td>\n",
       "      <td>Dramas</td>\n",
       "    </tr>\n",
       "    <tr>\n",
       "      <th>1</th>\n",
       "      <td>s3</td>\n",
       "      <td>Movie</td>\n",
       "      <td>23:59</td>\n",
       "      <td>Gilbert Chan</td>\n",
       "      <td>Tedd Chan, Stella Chung, Henley Hii, Lawrence ...</td>\n",
       "      <td>Singapore</td>\n",
       "      <td>December 20, 2018</td>\n",
       "      <td>2011</td>\n",
       "      <td>78</td>\n",
       "      <td>When an army recruit is found dead, his fellow...</td>\n",
       "      <td>Horror Movies</td>\n",
       "    </tr>\n",
       "    <tr>\n",
       "      <th>2</th>\n",
       "      <td>s4</td>\n",
       "      <td>Movie</td>\n",
       "      <td>9</td>\n",
       "      <td>Shane Acker</td>\n",
       "      <td>Elijah Wood, John C. Reilly, Jennifer Connelly...</td>\n",
       "      <td>United States</td>\n",
       "      <td>November 16, 2017</td>\n",
       "      <td>2009</td>\n",
       "      <td>80</td>\n",
       "      <td>In a postapocalyptic world, rag-doll robots hi...</td>\n",
       "      <td>Action</td>\n",
       "    </tr>\n",
       "    <tr>\n",
       "      <th>3</th>\n",
       "      <td>s5</td>\n",
       "      <td>Movie</td>\n",
       "      <td>21</td>\n",
       "      <td>Robert Luketic</td>\n",
       "      <td>Jim Sturgess, Kevin Spacey, Kate Bosworth, Aar...</td>\n",
       "      <td>United States</td>\n",
       "      <td>January 1, 2020</td>\n",
       "      <td>2008</td>\n",
       "      <td>123</td>\n",
       "      <td>A brilliant group of students become card-coun...</td>\n",
       "      <td>Dramas</td>\n",
       "    </tr>\n",
       "    <tr>\n",
       "      <th>4</th>\n",
       "      <td>s6</td>\n",
       "      <td>TV Show</td>\n",
       "      <td>46</td>\n",
       "      <td>Serdar Akar</td>\n",
       "      <td>Erdal Beşikçioğlu, Yasemin Allen, Melis Birkan...</td>\n",
       "      <td>Turkey</td>\n",
       "      <td>July 1, 2017</td>\n",
       "      <td>2016</td>\n",
       "      <td>1</td>\n",
       "      <td>A genetics professor experiments with a treatm...</td>\n",
       "      <td>International TV</td>\n",
       "    </tr>\n",
       "  </tbody>\n",
       "</table>\n",
       "</div>"
      ],
      "text/plain": [
       "  show_id     type  title           director  \\\n",
       "0      s2    Movie   7:19  Jorge Michel Grau   \n",
       "1      s3    Movie  23:59       Gilbert Chan   \n",
       "2      s4    Movie      9        Shane Acker   \n",
       "3      s5    Movie     21     Robert Luketic   \n",
       "4      s6  TV Show     46        Serdar Akar   \n",
       "\n",
       "                                                cast        country  \\\n",
       "0  Demián Bichir, Héctor Bonilla, Oscar Serrano, ...         Mexico   \n",
       "1  Tedd Chan, Stella Chung, Henley Hii, Lawrence ...      Singapore   \n",
       "2  Elijah Wood, John C. Reilly, Jennifer Connelly...  United States   \n",
       "3  Jim Sturgess, Kevin Spacey, Kate Bosworth, Aar...  United States   \n",
       "4  Erdal Beşikçioğlu, Yasemin Allen, Melis Birkan...         Turkey   \n",
       "\n",
       "          date_added  release_year  duration  \\\n",
       "0  December 23, 2016          2016        93   \n",
       "1  December 20, 2018          2011        78   \n",
       "2  November 16, 2017          2009        80   \n",
       "3    January 1, 2020          2008       123   \n",
       "4       July 1, 2017          2016         1   \n",
       "\n",
       "                                         description             genre  \n",
       "0  After a devastating earthquake hits Mexico Cit...            Dramas  \n",
       "1  When an army recruit is found dead, his fellow...     Horror Movies  \n",
       "2  In a postapocalyptic world, rag-doll robots hi...            Action  \n",
       "3  A brilliant group of students become card-coun...            Dramas  \n",
       "4  A genetics professor experiments with a treatm...  International TV  "
      ]
     },
     "execution_count": 1,
     "metadata": {},
     "output_type": "execute_result"
    }
   ],
   "source": [
    "# Importing pandas and Numpy\n",
    "\n",
    "import pandas as pd\n",
    "import numpy as np\n",
    "\n",
    "\n",
    "netflix_df = pd.read_csv(\"netflix_data.csv\")\n",
    "netflix_df.head()"
   ]
  },
  {
   "cell_type": "code",
   "execution_count": 3,
   "id": "84f841b0-533b-488c-95f7-83a6cfbe723e",
   "metadata": {
    "executionCancelledAt": null,
    "executionTime": 11,
    "lastExecutedAt": 1753323898967,
    "lastExecutedByKernel": "91d68795-5306-4cc7-8c62-696c7d48e340",
    "lastScheduledRunId": null,
    "lastSuccessfullyExecutedCode": "netflix_df.shape"
   },
   "outputs": [
    {
     "name": "stdout",
     "output_type": "stream",
     "text": [
      " Netflix_df has 4812 rows and 11 columns\n"
     ]
    }
   ],
   "source": [
    "netflix_df.shape[0]  # Number of rows\n",
    "netflix_df.shape[1]  # Number of columns\n",
    "\n",
    "print(f\" Netflix_df has {netflix_df.shape[0]} rows and {netflix_df.shape[1]} columns\" )\n"
   ]
  },
  {
   "cell_type": "code",
   "execution_count": 9,
   "id": "7b9fff22-7d9a-425c-aa0a-6d7c3af993bc",
   "metadata": {},
   "outputs": [
    {
     "data": {
      "text/plain": [
       "Index(['show_id', 'type', 'title', 'director', 'cast', 'country', 'date_added',\n",
       "       'release_year', 'duration', 'description', 'genre'],\n",
       "      dtype='object')"
      ]
     },
     "execution_count": 9,
     "metadata": {},
     "output_type": "execute_result"
    }
   ],
   "source": [
    "netflix_df.columns"
   ]
  },
  {
   "cell_type": "code",
   "execution_count": 11,
   "id": "2d7b918d-afe1-4d6b-8da8-ad06a6c6e724",
   "metadata": {},
   "outputs": [
    {
     "name": "stdout",
     "output_type": "stream",
     "text": [
      "<class 'pandas.core.frame.DataFrame'>\n",
      "RangeIndex: 4812 entries, 0 to 4811\n",
      "Data columns (total 11 columns):\n",
      " #   Column        Non-Null Count  Dtype \n",
      "---  ------        --------------  ----- \n",
      " 0   show_id       4812 non-null   object\n",
      " 1   type          4812 non-null   object\n",
      " 2   title         4812 non-null   object\n",
      " 3   director      4812 non-null   object\n",
      " 4   cast          4812 non-null   object\n",
      " 5   country       4812 non-null   object\n",
      " 6   date_added    4812 non-null   object\n",
      " 7   release_year  4812 non-null   int64 \n",
      " 8   duration      4812 non-null   int64 \n",
      " 9   description   4812 non-null   object\n",
      " 10  genre         4812 non-null   object\n",
      "dtypes: int64(2), object(9)\n",
      "memory usage: 413.7+ KB\n"
     ]
    }
   ],
   "source": [
    "netflix_df.info()"
   ]
  },
  {
   "cell_type": "markdown",
   "id": "1f516ce2-0321-44b4-8f6c-3a65fa169270",
   "metadata": {},
   "source": [
    "#  We just need to use columns \"type\", \"release_year\", \"duration\", and \"genre\" To answer the first and second question,"
   ]
  },
  {
   "cell_type": "markdown",
   "id": "ed2eb785-394a-4ecf-99c8-5f50d14c2dd6",
   "metadata": {},
   "source": [
    "# 1) What was the most frequent movie duration in the 1990s? \n",
    "\n",
    "# Save an approximate answer as an integer called duration (use 1990 as the decade's start year)."
   ]
  },
  {
   "cell_type": "markdown",
   "id": "f49c4036-05cb-4e89-ac73-4fc0db5e92a0",
   "metadata": {},
   "source": [
    "* First let us see how many categories the type column has"
   ]
  },
  {
   "cell_type": "code",
   "execution_count": 20,
   "id": "0aa24499-9325-4feb-b2e5-1422fafd1cbf",
   "metadata": {},
   "outputs": [
    {
     "name": "stdout",
     "output_type": "stream",
     "text": [
      "type\n",
      "Movie      4677\n",
      "TV Show     135\n",
      "Name: count, dtype: int64\n"
     ]
    }
   ],
   "source": [
    "# Count how many times each unique value appears\n",
    "\n",
    "val_counts_type = netflix_df[\"type\"].value_counts()\n",
    "print(val_counts_type)\n",
    "\n"
   ]
  },
  {
   "cell_type": "markdown",
   "id": "ed40077a-a8eb-48ec-a417-3efa02073478",
   "metadata": {},
   "source": [
    "*  First filter:  Filter rows where `type` = 'Movie'\n",
    "\n",
    "*  This gives you a dataframe containing only movies."
   ]
  },
  {
   "cell_type": "code",
   "execution_count": 23,
   "id": "d529aa29-b26f-4ac6-94ba-2217f2b9fd54",
   "metadata": {},
   "outputs": [
    {
     "data": {
      "text/html": [
       "<div>\n",
       "<style scoped>\n",
       "    .dataframe tbody tr th:only-of-type {\n",
       "        vertical-align: middle;\n",
       "    }\n",
       "\n",
       "    .dataframe tbody tr th {\n",
       "        vertical-align: top;\n",
       "    }\n",
       "\n",
       "    .dataframe thead th {\n",
       "        text-align: right;\n",
       "    }\n",
       "</style>\n",
       "<table border=\"1\" class=\"dataframe\">\n",
       "  <thead>\n",
       "    <tr style=\"text-align: right;\">\n",
       "      <th></th>\n",
       "      <th>show_id</th>\n",
       "      <th>type</th>\n",
       "      <th>title</th>\n",
       "      <th>director</th>\n",
       "      <th>cast</th>\n",
       "      <th>country</th>\n",
       "      <th>date_added</th>\n",
       "      <th>release_year</th>\n",
       "      <th>duration</th>\n",
       "      <th>description</th>\n",
       "      <th>genre</th>\n",
       "    </tr>\n",
       "  </thead>\n",
       "  <tbody>\n",
       "    <tr>\n",
       "      <th>0</th>\n",
       "      <td>s2</td>\n",
       "      <td>Movie</td>\n",
       "      <td>7:19</td>\n",
       "      <td>Jorge Michel Grau</td>\n",
       "      <td>Demián Bichir, Héctor Bonilla, Oscar Serrano, ...</td>\n",
       "      <td>Mexico</td>\n",
       "      <td>December 23, 2016</td>\n",
       "      <td>2016</td>\n",
       "      <td>93</td>\n",
       "      <td>After a devastating earthquake hits Mexico Cit...</td>\n",
       "      <td>Dramas</td>\n",
       "    </tr>\n",
       "    <tr>\n",
       "      <th>1</th>\n",
       "      <td>s3</td>\n",
       "      <td>Movie</td>\n",
       "      <td>23:59</td>\n",
       "      <td>Gilbert Chan</td>\n",
       "      <td>Tedd Chan, Stella Chung, Henley Hii, Lawrence ...</td>\n",
       "      <td>Singapore</td>\n",
       "      <td>December 20, 2018</td>\n",
       "      <td>2011</td>\n",
       "      <td>78</td>\n",
       "      <td>When an army recruit is found dead, his fellow...</td>\n",
       "      <td>Horror Movies</td>\n",
       "    </tr>\n",
       "    <tr>\n",
       "      <th>2</th>\n",
       "      <td>s4</td>\n",
       "      <td>Movie</td>\n",
       "      <td>9</td>\n",
       "      <td>Shane Acker</td>\n",
       "      <td>Elijah Wood, John C. Reilly, Jennifer Connelly...</td>\n",
       "      <td>United States</td>\n",
       "      <td>November 16, 2017</td>\n",
       "      <td>2009</td>\n",
       "      <td>80</td>\n",
       "      <td>In a postapocalyptic world, rag-doll robots hi...</td>\n",
       "      <td>Action</td>\n",
       "    </tr>\n",
       "    <tr>\n",
       "      <th>3</th>\n",
       "      <td>s5</td>\n",
       "      <td>Movie</td>\n",
       "      <td>21</td>\n",
       "      <td>Robert Luketic</td>\n",
       "      <td>Jim Sturgess, Kevin Spacey, Kate Bosworth, Aar...</td>\n",
       "      <td>United States</td>\n",
       "      <td>January 1, 2020</td>\n",
       "      <td>2008</td>\n",
       "      <td>123</td>\n",
       "      <td>A brilliant group of students become card-coun...</td>\n",
       "      <td>Dramas</td>\n",
       "    </tr>\n",
       "    <tr>\n",
       "      <th>5</th>\n",
       "      <td>s7</td>\n",
       "      <td>Movie</td>\n",
       "      <td>122</td>\n",
       "      <td>Yasir Al Yasiri</td>\n",
       "      <td>Amina Khalil, Ahmed Dawood, Tarek Lotfy, Ahmed...</td>\n",
       "      <td>Egypt</td>\n",
       "      <td>June 1, 2020</td>\n",
       "      <td>2019</td>\n",
       "      <td>95</td>\n",
       "      <td>After an awful accident, a couple admitted to ...</td>\n",
       "      <td>Horror Movies</td>\n",
       "    </tr>\n",
       "    <tr>\n",
       "      <th>...</th>\n",
       "      <td>...</td>\n",
       "      <td>...</td>\n",
       "      <td>...</td>\n",
       "      <td>...</td>\n",
       "      <td>...</td>\n",
       "      <td>...</td>\n",
       "      <td>...</td>\n",
       "      <td>...</td>\n",
       "      <td>...</td>\n",
       "      <td>...</td>\n",
       "      <td>...</td>\n",
       "    </tr>\n",
       "    <tr>\n",
       "      <th>4807</th>\n",
       "      <td>s7779</td>\n",
       "      <td>Movie</td>\n",
       "      <td>Zombieland</td>\n",
       "      <td>Ruben Fleischer</td>\n",
       "      <td>Jesse Eisenberg, Woody Harrelson, Emma Stone, ...</td>\n",
       "      <td>United States</td>\n",
       "      <td>November 1, 2019</td>\n",
       "      <td>2009</td>\n",
       "      <td>88</td>\n",
       "      <td>Looking to survive in a world taken over by zo...</td>\n",
       "      <td>Comedies</td>\n",
       "    </tr>\n",
       "    <tr>\n",
       "      <th>4808</th>\n",
       "      <td>s7781</td>\n",
       "      <td>Movie</td>\n",
       "      <td>Zoo</td>\n",
       "      <td>Shlok Sharma</td>\n",
       "      <td>Shashank Arora, Shweta Tripathi, Rahul Kumar, ...</td>\n",
       "      <td>India</td>\n",
       "      <td>July 1, 2018</td>\n",
       "      <td>2018</td>\n",
       "      <td>94</td>\n",
       "      <td>A drug dealer starts having doubts about his t...</td>\n",
       "      <td>Dramas</td>\n",
       "    </tr>\n",
       "    <tr>\n",
       "      <th>4809</th>\n",
       "      <td>s7782</td>\n",
       "      <td>Movie</td>\n",
       "      <td>Zoom</td>\n",
       "      <td>Peter Hewitt</td>\n",
       "      <td>Tim Allen, Courteney Cox, Chevy Chase, Kate Ma...</td>\n",
       "      <td>United States</td>\n",
       "      <td>January 11, 2020</td>\n",
       "      <td>2006</td>\n",
       "      <td>88</td>\n",
       "      <td>Dragged from civilian life, a former superhero...</td>\n",
       "      <td>Children</td>\n",
       "    </tr>\n",
       "    <tr>\n",
       "      <th>4810</th>\n",
       "      <td>s7783</td>\n",
       "      <td>Movie</td>\n",
       "      <td>Zozo</td>\n",
       "      <td>Josef Fares</td>\n",
       "      <td>Imad Creidi, Antoinette Turk, Elias Gergi, Car...</td>\n",
       "      <td>Sweden</td>\n",
       "      <td>October 19, 2020</td>\n",
       "      <td>2005</td>\n",
       "      <td>99</td>\n",
       "      <td>When Lebanon's Civil War deprives Zozo of his ...</td>\n",
       "      <td>Dramas</td>\n",
       "    </tr>\n",
       "    <tr>\n",
       "      <th>4811</th>\n",
       "      <td>s7784</td>\n",
       "      <td>Movie</td>\n",
       "      <td>Zubaan</td>\n",
       "      <td>Mozez Singh</td>\n",
       "      <td>Vicky Kaushal, Sarah-Jane Dias, Raaghav Chanan...</td>\n",
       "      <td>India</td>\n",
       "      <td>March 2, 2019</td>\n",
       "      <td>2015</td>\n",
       "      <td>111</td>\n",
       "      <td>A scrappy but poor boy worms his way into a ty...</td>\n",
       "      <td>Dramas</td>\n",
       "    </tr>\n",
       "  </tbody>\n",
       "</table>\n",
       "<p>4677 rows × 11 columns</p>\n",
       "</div>"
      ],
      "text/plain": [
       "     show_id   type       title           director  \\\n",
       "0         s2  Movie        7:19  Jorge Michel Grau   \n",
       "1         s3  Movie       23:59       Gilbert Chan   \n",
       "2         s4  Movie           9        Shane Acker   \n",
       "3         s5  Movie          21     Robert Luketic   \n",
       "5         s7  Movie         122    Yasir Al Yasiri   \n",
       "...      ...    ...         ...                ...   \n",
       "4807   s7779  Movie  Zombieland    Ruben Fleischer   \n",
       "4808   s7781  Movie         Zoo       Shlok Sharma   \n",
       "4809   s7782  Movie        Zoom       Peter Hewitt   \n",
       "4810   s7783  Movie        Zozo        Josef Fares   \n",
       "4811   s7784  Movie      Zubaan        Mozez Singh   \n",
       "\n",
       "                                                   cast        country  \\\n",
       "0     Demián Bichir, Héctor Bonilla, Oscar Serrano, ...         Mexico   \n",
       "1     Tedd Chan, Stella Chung, Henley Hii, Lawrence ...      Singapore   \n",
       "2     Elijah Wood, John C. Reilly, Jennifer Connelly...  United States   \n",
       "3     Jim Sturgess, Kevin Spacey, Kate Bosworth, Aar...  United States   \n",
       "5     Amina Khalil, Ahmed Dawood, Tarek Lotfy, Ahmed...          Egypt   \n",
       "...                                                 ...            ...   \n",
       "4807  Jesse Eisenberg, Woody Harrelson, Emma Stone, ...  United States   \n",
       "4808  Shashank Arora, Shweta Tripathi, Rahul Kumar, ...          India   \n",
       "4809  Tim Allen, Courteney Cox, Chevy Chase, Kate Ma...  United States   \n",
       "4810  Imad Creidi, Antoinette Turk, Elias Gergi, Car...         Sweden   \n",
       "4811  Vicky Kaushal, Sarah-Jane Dias, Raaghav Chanan...          India   \n",
       "\n",
       "             date_added  release_year  duration  \\\n",
       "0     December 23, 2016          2016        93   \n",
       "1     December 20, 2018          2011        78   \n",
       "2     November 16, 2017          2009        80   \n",
       "3       January 1, 2020          2008       123   \n",
       "5          June 1, 2020          2019        95   \n",
       "...                 ...           ...       ...   \n",
       "4807   November 1, 2019          2009        88   \n",
       "4808       July 1, 2018          2018        94   \n",
       "4809   January 11, 2020          2006        88   \n",
       "4810   October 19, 2020          2005        99   \n",
       "4811      March 2, 2019          2015       111   \n",
       "\n",
       "                                            description          genre  \n",
       "0     After a devastating earthquake hits Mexico Cit...         Dramas  \n",
       "1     When an army recruit is found dead, his fellow...  Horror Movies  \n",
       "2     In a postapocalyptic world, rag-doll robots hi...         Action  \n",
       "3     A brilliant group of students become card-coun...         Dramas  \n",
       "5     After an awful accident, a couple admitted to ...  Horror Movies  \n",
       "...                                                 ...            ...  \n",
       "4807  Looking to survive in a world taken over by zo...       Comedies  \n",
       "4808  A drug dealer starts having doubts about his t...         Dramas  \n",
       "4809  Dragged from civilian life, a former superhero...       Children  \n",
       "4810  When Lebanon's Civil War deprives Zozo of his ...         Dramas  \n",
       "4811  A scrappy but poor boy worms his way into a ty...         Dramas  \n",
       "\n",
       "[4677 rows x 11 columns]"
      ]
     },
     "execution_count": 23,
     "metadata": {},
     "output_type": "execute_result"
    }
   ],
   "source": [
    "movies_df = netflix_df[netflix_df[\"type\"] == \"Movie\"]\n",
    "movies_df"
   ]
  },
  {
   "cell_type": "markdown",
   "id": "5973aa61-c9b9-4c13-ac06-d4b6ac61c560",
   "metadata": {},
   "source": [
    "* Check unique values in the \"type\" column to confirm only movies are included\n"
   ]
  },
  {
   "cell_type": "code",
   "execution_count": 25,
   "id": "76eda8ec-dcc7-4339-9156-8cb8a9680bcd",
   "metadata": {},
   "outputs": [
    {
     "data": {
      "text/plain": [
       "type\n",
       "Movie    4677\n",
       "Name: count, dtype: int64"
      ]
     },
     "execution_count": 25,
     "metadata": {},
     "output_type": "execute_result"
    }
   ],
   "source": [
    "val_counts_movie = movies_df[\"type\"]. value_counts()\n",
    "val_counts_movie"
   ]
  },
  {
   "cell_type": "markdown",
   "id": "94f82276-6f95-45c7-a4e9-6f3d6dde5316",
   "metadata": {},
   "source": [
    "* Second filter (Numpy filter): Filter rows where \"release_year\" = 1990"
   ]
  },
  {
   "cell_type": "code",
   "execution_count": 30,
   "id": "45315fe1-a530-4648-86a0-6e3cf4ddad6f",
   "metadata": {},
   "outputs": [
    {
     "data": {
      "text/html": [
       "<div>\n",
       "<style scoped>\n",
       "    .dataframe tbody tr th:only-of-type {\n",
       "        vertical-align: middle;\n",
       "    }\n",
       "\n",
       "    .dataframe tbody tr th {\n",
       "        vertical-align: top;\n",
       "    }\n",
       "\n",
       "    .dataframe thead th {\n",
       "        text-align: right;\n",
       "    }\n",
       "</style>\n",
       "<table border=\"1\" class=\"dataframe\">\n",
       "  <thead>\n",
       "    <tr style=\"text-align: right;\">\n",
       "      <th></th>\n",
       "      <th>show_id</th>\n",
       "      <th>type</th>\n",
       "      <th>title</th>\n",
       "      <th>director</th>\n",
       "      <th>cast</th>\n",
       "      <th>country</th>\n",
       "      <th>date_added</th>\n",
       "      <th>release_year</th>\n",
       "      <th>duration</th>\n",
       "      <th>description</th>\n",
       "      <th>genre</th>\n",
       "    </tr>\n",
       "  </thead>\n",
       "  <tbody>\n",
       "    <tr>\n",
       "      <th>6</th>\n",
       "      <td>s8</td>\n",
       "      <td>Movie</td>\n",
       "      <td>187</td>\n",
       "      <td>Kevin Reynolds</td>\n",
       "      <td>Samuel L. Jackson, John Heard, Kelly Rowan, Cl...</td>\n",
       "      <td>United States</td>\n",
       "      <td>November 1, 2019</td>\n",
       "      <td>1997</td>\n",
       "      <td>119</td>\n",
       "      <td>After one of his high school students attacks ...</td>\n",
       "      <td>Dramas</td>\n",
       "    </tr>\n",
       "    <tr>\n",
       "      <th>118</th>\n",
       "      <td>s167</td>\n",
       "      <td>Movie</td>\n",
       "      <td>A Dangerous Woman</td>\n",
       "      <td>Stephen Gyllenhaal</td>\n",
       "      <td>Debra Winger, Barbara Hershey, Gabriel Byrne, ...</td>\n",
       "      <td>United States</td>\n",
       "      <td>April 1, 2018</td>\n",
       "      <td>1993</td>\n",
       "      <td>101</td>\n",
       "      <td>At the center of this engrossing melodrama is ...</td>\n",
       "      <td>Dramas</td>\n",
       "    </tr>\n",
       "    <tr>\n",
       "      <th>145</th>\n",
       "      <td>s211</td>\n",
       "      <td>Movie</td>\n",
       "      <td>A Night at the Roxbury</td>\n",
       "      <td>John Fortenberry</td>\n",
       "      <td>Will Ferrell, Chris Kattan, Dan Hedaya, Molly ...</td>\n",
       "      <td>United States</td>\n",
       "      <td>December 1, 2019</td>\n",
       "      <td>1998</td>\n",
       "      <td>82</td>\n",
       "      <td>After a run-in with Richard Grieco, dimwits Do...</td>\n",
       "      <td>Comedies</td>\n",
       "    </tr>\n",
       "    <tr>\n",
       "      <th>167</th>\n",
       "      <td>s239</td>\n",
       "      <td>Movie</td>\n",
       "      <td>A Thin Line Between Love &amp; Hate</td>\n",
       "      <td>Martin Lawrence</td>\n",
       "      <td>Martin Lawrence, Lynn Whitfield, Regina King, ...</td>\n",
       "      <td>United States</td>\n",
       "      <td>December 1, 2020</td>\n",
       "      <td>1996</td>\n",
       "      <td>108</td>\n",
       "      <td>When a philandering club promoter sets out to ...</td>\n",
       "      <td>Comedies</td>\n",
       "    </tr>\n",
       "    <tr>\n",
       "      <th>194</th>\n",
       "      <td>s274</td>\n",
       "      <td>Movie</td>\n",
       "      <td>Aashik Awara</td>\n",
       "      <td>Umesh Mehra</td>\n",
       "      <td>Saif Ali Khan, Mamta Kulkarni, Mohnish Bahl, S...</td>\n",
       "      <td>India</td>\n",
       "      <td>June 1, 2017</td>\n",
       "      <td>1993</td>\n",
       "      <td>154</td>\n",
       "      <td>Raised by a kindly thief, orphaned Jimmy goes ...</td>\n",
       "      <td>Dramas</td>\n",
       "    </tr>\n",
       "    <tr>\n",
       "      <th>...</th>\n",
       "      <td>...</td>\n",
       "      <td>...</td>\n",
       "      <td>...</td>\n",
       "      <td>...</td>\n",
       "      <td>...</td>\n",
       "      <td>...</td>\n",
       "      <td>...</td>\n",
       "      <td>...</td>\n",
       "      <td>...</td>\n",
       "      <td>...</td>\n",
       "      <td>...</td>\n",
       "    </tr>\n",
       "    <tr>\n",
       "      <th>4672</th>\n",
       "      <td>s7536</td>\n",
       "      <td>Movie</td>\n",
       "      <td>West Beirut</td>\n",
       "      <td>Ziad Doueiri</td>\n",
       "      <td>Rami Doueiri, Mohamad Chamas, Rola Al Amin, Ca...</td>\n",
       "      <td>France</td>\n",
       "      <td>October 19, 2020</td>\n",
       "      <td>1999</td>\n",
       "      <td>106</td>\n",
       "      <td>Three intrepid teens roam the streets of Beiru...</td>\n",
       "      <td>Dramas</td>\n",
       "    </tr>\n",
       "    <tr>\n",
       "      <th>4689</th>\n",
       "      <td>s7571</td>\n",
       "      <td>Movie</td>\n",
       "      <td>What's Eating Gilbert Grape</td>\n",
       "      <td>Lasse Hallström</td>\n",
       "      <td>Johnny Depp, Leonardo DiCaprio, Juliette Lewis...</td>\n",
       "      <td>United States</td>\n",
       "      <td>January 1, 2021</td>\n",
       "      <td>1993</td>\n",
       "      <td>118</td>\n",
       "      <td>In a backwater Iowa town, young Gilbert is tor...</td>\n",
       "      <td>Classic Movies</td>\n",
       "    </tr>\n",
       "    <tr>\n",
       "      <th>4718</th>\n",
       "      <td>s7624</td>\n",
       "      <td>Movie</td>\n",
       "      <td>Wild Wild West</td>\n",
       "      <td>Barry Sonnenfeld</td>\n",
       "      <td>Will Smith, Kevin Kline, Kenneth Branagh, Salm...</td>\n",
       "      <td>United States</td>\n",
       "      <td>January 1, 2020</td>\n",
       "      <td>1999</td>\n",
       "      <td>106</td>\n",
       "      <td>Armed with an ingenious arsenal, two top-notch...</td>\n",
       "      <td>Action</td>\n",
       "    </tr>\n",
       "    <tr>\n",
       "      <th>4746</th>\n",
       "      <td>s7682</td>\n",
       "      <td>Movie</td>\n",
       "      <td>Wyatt Earp</td>\n",
       "      <td>Lawrence Kasdan</td>\n",
       "      <td>Kevin Costner, Dennis Quaid, Gene Hackman, Dav...</td>\n",
       "      <td>United States</td>\n",
       "      <td>January 1, 2020</td>\n",
       "      <td>1994</td>\n",
       "      <td>191</td>\n",
       "      <td>Legendary lawman Wyatt Earp is continually at ...</td>\n",
       "      <td>Action</td>\n",
       "    </tr>\n",
       "    <tr>\n",
       "      <th>4756</th>\n",
       "      <td>s7695</td>\n",
       "      <td>Movie</td>\n",
       "      <td>Yaar Gaddar</td>\n",
       "      <td>Umesh Mehra</td>\n",
       "      <td>Mithun Chakraborty, Saif Ali Khan, Somy Ali, P...</td>\n",
       "      <td>India</td>\n",
       "      <td>July 1, 2017</td>\n",
       "      <td>1994</td>\n",
       "      <td>148</td>\n",
       "      <td>When his brother becomes involved in a deadly ...</td>\n",
       "      <td>Dramas</td>\n",
       "    </tr>\n",
       "  </tbody>\n",
       "</table>\n",
       "<p>183 rows × 11 columns</p>\n",
       "</div>"
      ],
      "text/plain": [
       "     show_id   type                            title            director  \\\n",
       "6         s8  Movie                              187      Kevin Reynolds   \n",
       "118     s167  Movie                A Dangerous Woman  Stephen Gyllenhaal   \n",
       "145     s211  Movie           A Night at the Roxbury    John Fortenberry   \n",
       "167     s239  Movie  A Thin Line Between Love & Hate     Martin Lawrence   \n",
       "194     s274  Movie                     Aashik Awara         Umesh Mehra   \n",
       "...      ...    ...                              ...                 ...   \n",
       "4672   s7536  Movie                      West Beirut        Ziad Doueiri   \n",
       "4689   s7571  Movie      What's Eating Gilbert Grape     Lasse Hallström   \n",
       "4718   s7624  Movie                   Wild Wild West    Barry Sonnenfeld   \n",
       "4746   s7682  Movie                       Wyatt Earp     Lawrence Kasdan   \n",
       "4756   s7695  Movie                      Yaar Gaddar         Umesh Mehra   \n",
       "\n",
       "                                                   cast        country  \\\n",
       "6     Samuel L. Jackson, John Heard, Kelly Rowan, Cl...  United States   \n",
       "118   Debra Winger, Barbara Hershey, Gabriel Byrne, ...  United States   \n",
       "145   Will Ferrell, Chris Kattan, Dan Hedaya, Molly ...  United States   \n",
       "167   Martin Lawrence, Lynn Whitfield, Regina King, ...  United States   \n",
       "194   Saif Ali Khan, Mamta Kulkarni, Mohnish Bahl, S...          India   \n",
       "...                                                 ...            ...   \n",
       "4672  Rami Doueiri, Mohamad Chamas, Rola Al Amin, Ca...         France   \n",
       "4689  Johnny Depp, Leonardo DiCaprio, Juliette Lewis...  United States   \n",
       "4718  Will Smith, Kevin Kline, Kenneth Branagh, Salm...  United States   \n",
       "4746  Kevin Costner, Dennis Quaid, Gene Hackman, Dav...  United States   \n",
       "4756  Mithun Chakraborty, Saif Ali Khan, Somy Ali, P...          India   \n",
       "\n",
       "            date_added  release_year  duration  \\\n",
       "6     November 1, 2019          1997       119   \n",
       "118      April 1, 2018          1993       101   \n",
       "145   December 1, 2019          1998        82   \n",
       "167   December 1, 2020          1996       108   \n",
       "194       June 1, 2017          1993       154   \n",
       "...                ...           ...       ...   \n",
       "4672  October 19, 2020          1999       106   \n",
       "4689   January 1, 2021          1993       118   \n",
       "4718   January 1, 2020          1999       106   \n",
       "4746   January 1, 2020          1994       191   \n",
       "4756      July 1, 2017          1994       148   \n",
       "\n",
       "                                            description           genre  \n",
       "6     After one of his high school students attacks ...          Dramas  \n",
       "118   At the center of this engrossing melodrama is ...          Dramas  \n",
       "145   After a run-in with Richard Grieco, dimwits Do...        Comedies  \n",
       "167   When a philandering club promoter sets out to ...        Comedies  \n",
       "194   Raised by a kindly thief, orphaned Jimmy goes ...          Dramas  \n",
       "...                                                 ...             ...  \n",
       "4672  Three intrepid teens roam the streets of Beiru...          Dramas  \n",
       "4689  In a backwater Iowa town, young Gilbert is tor...  Classic Movies  \n",
       "4718  Armed with an ingenious arsenal, two top-notch...          Action  \n",
       "4746  Legendary lawman Wyatt Earp is continually at ...          Action  \n",
       "4756  When his brother becomes involved in a deadly ...          Dramas  \n",
       "\n",
       "[183 rows x 11 columns]"
      ]
     },
     "execution_count": 30,
     "metadata": {},
     "output_type": "execute_result"
    }
   ],
   "source": [
    "movies_90_df = movies_df[np.logical_and(movies_df[\"release_year\"] >= 1990, movies_df[\"release_year\"] <2000)]\n",
    "movies_90_df"
   ]
  },
  {
   "cell_type": "markdown",
   "id": "38dc25fa-ef3d-4b24-8034-3206c799c7af",
   "metadata": {},
   "source": [
    "* Count how many movies came out each year (1990s subset)\n"
   ]
  },
  {
   "cell_type": "code",
   "execution_count": 33,
   "id": "39349ced-d644-4e94-8e3a-b9b7bcd3cc55",
   "metadata": {},
   "outputs": [
    {
     "data": {
      "text/plain": [
       "release_year\n",
       "1997    26\n",
       "1998    26\n",
       "1999    26\n",
       "1993    16\n",
       "1995    16\n",
       "1992    16\n",
       "1996    15\n",
       "1990    14\n",
       "1991    14\n",
       "1994    14\n",
       "Name: count, dtype: int64"
      ]
     },
     "execution_count": 33,
     "metadata": {},
     "output_type": "execute_result"
    }
   ],
   "source": [
    "val_counts_90 = movies_90_df[\"release_year\"].value_counts()\n",
    "val_counts_90"
   ]
  },
  {
   "cell_type": "markdown",
   "id": "c988fc18-82a1-4be3-a598-b07e85841db4",
   "metadata": {},
   "source": [
    "* The most frequent movie duration in the 1990s?"
   ]
  },
  {
   "cell_type": "code",
   "execution_count": 45,
   "id": "079aa5b5-fcf0-4229-91a6-0cd40d71b868",
   "metadata": {
    "executionCancelledAt": null,
    "executionTime": 50,
    "lastExecutedAt": 1753325034246,
    "lastExecutedByKernel": "91d68795-5306-4cc7-8c62-696c7d48e340",
    "lastScheduledRunId": null,
    "lastSuccessfullyExecutedCode": "movies_90[\"duration\"].dtype\n\nduration = movies_90[\"duration\"].mode()\nprint(type(duration))\nprint(duration)\n\n",
    "outputsMetadata": {
     "0": {
      "height": 500,
      "tableState": {},
      "type": "dataFrame"
     }
    }
   },
   "outputs": [
    {
     "name": "stdout",
     "output_type": "stream",
     "text": [
      " The most frequent movie duration in the 1990s is 94 \n"
     ]
    }
   ],
   "source": [
    "# If you need just one number (like for this assignment), use:\n",
    "\n",
    "duration = movies_90_df[\"duration\"].mode()[0]\n",
    "\n",
    "print(f\" The most frequent movie duration in the 1990s is {duration} \")\n"
   ]
  },
  {
   "cell_type": "markdown",
   "id": "7d891a86-79ad-48cb-94b5-3b8afcab02dc",
   "metadata": {},
   "source": [
    "# Alternative solution using Pandas boolean operators (& and |)\n"
   ]
  },
  {
   "cell_type": "code",
   "execution_count": 48,
   "id": "9ef76e9a-f358-462a-891a-158b56460f4a",
   "metadata": {},
   "outputs": [
    {
     "name": "stdout",
     "output_type": "stream",
     "text": [
      " The most frequent movie duration in the 1990s is 94\n"
     ]
    }
   ],
   "source": [
    "duration = int(netflix_df[\n",
    "                  (netflix_df[\"type\"] == \"Movie\") & \n",
    "                  (netflix_df[\"release_year\"] >=1990) & \n",
    "                  (netflix_df[\"release_year\"] < 2000)\n",
    "               ][\"duration\"].mode()[0])\n",
    "print(f\" The most frequent movie duration in the 1990s is {duration}\")"
   ]
  },
  {
   "cell_type": "markdown",
   "id": "418a38b7-9f2c-4391-a8a5-e5df4f4d14fd",
   "metadata": {},
   "source": [
    "# 2) A movie is considered short if it is less than 90 minutes.\n",
    "\n",
    "# Count the number of short action movies released in the 1990s and save this integer as short_movie_count."
   ]
  },
  {
   "cell_type": "markdown",
   "id": "3dc57e40-3cfa-4bbc-a991-23981a7f2d2c",
   "metadata": {},
   "source": [
    "# Filter short action movies using NumPy logical_and"
   ]
  },
  {
   "cell_type": "code",
   "execution_count": 89,
   "id": "3338b522-091c-4814-bd15-c2d25a6cb563",
   "metadata": {},
   "outputs": [
    {
     "name": "stdout",
     "output_type": "stream",
     "text": [
      " The number of short action movies released in the 1990s is 7\n"
     ]
    }
   ],
   "source": [
    "\n",
    "short_movie = movies_90_df[np.logical_and(movies_90_df[\"genre\"] == \"Action\", movies_90_df[\"duration\"] < 90)]\n",
    "short_movie\n",
    "#print(type(short_movie))\n",
    "\n",
    "short_movie_count = len(short_movie)\n",
    "                        \n",
    "print(f\" The number of short action movies released in the 1990s is {short_movie_count}\")"
   ]
  },
  {
   "cell_type": "markdown",
   "id": "f78fc08c-6ab4-48ee-8bab-c03ef006179e",
   "metadata": {},
   "source": [
    "# Alternative solution using Pandas boolean operators (& and |)"
   ]
  },
  {
   "cell_type": "code",
   "execution_count": 54,
   "id": "343e2961-ed08-42a7-a39a-4eb3e7a15c72",
   "metadata": {},
   "outputs": [
    {
     "name": "stdout",
     "output_type": "stream",
     "text": [
      " The number of short action movies released in the 1990s is 7\n"
     ]
    }
   ],
   "source": [
    "short_movie_count = len(netflix_df[\n",
    "                  (netflix_df[\"type\"] == \"Movie\") & \n",
    "                   (netflix_df[\"genre\"] == \"Action\") &\n",
    "                  (netflix_df[\"release_year\"] >=1990) & \n",
    "                  (netflix_df[\"release_year\"] < 2000) &\n",
    "                  (netflix_df[\"duration\"] < 90)\n",
    "               ])\n",
    "print(f\" The number of short action movies released in the 1990s is {short_movie_count}\")"
   ]
  },
  {
   "cell_type": "markdown",
   "id": "b92dea38-9967-4d93-a80b-6e598b7deffa",
   "metadata": {},
   "source": [
    "# Another way to solve"
   ]
  },
  {
   "cell_type": "code",
   "execution_count": 78,
   "id": "f5892641-520c-4694-8d46-45041b4ba658",
   "metadata": {},
   "outputs": [
    {
     "name": "stdout",
     "output_type": "stream",
     "text": [
      " The number of short action movies released in the 1990s is 7\n"
     ]
    }
   ],
   "source": [
    "short_movie_count = movies_90_df[\n",
    "                                  (movies_90_df[\"genre\"] == \"Action\") &\n",
    "                                  (movies_90_df[\"duration\"] < 90)].shape[0]\n",
    "\n",
    "print(f\" The number of short action movies released in the 1990s is {short_movie_count}\")"
   ]
  },
  {
   "cell_type": "markdown",
   "id": "d3ecb0f9-3d02-4284-97a7-7170d730d1f4",
   "metadata": {},
   "source": [
    "# Another way to solve"
   ]
  },
  {
   "cell_type": "code",
   "execution_count": 72,
   "id": "59b9fe4f-cf00-4905-8cb4-d48e64383531",
   "metadata": {},
   "outputs": [
    {
     "name": "stdout",
     "output_type": "stream",
     "text": [
      " The number of short action movies released in the 1990s is 7\n"
     ]
    }
   ],
   "source": [
    "short_movie_count = len(movies_90_df[\n",
    "                                  (movies_90_df[\"genre\"] == \"Action\") &\n",
    "                                  (movies_90_df[\"duration\"] < 90)])\n",
    "\n",
    "print(f\" The number of short action movies released in the 1990s is {short_movie_count}\")"
   ]
  },
  {
   "cell_type": "markdown",
   "id": "a8da487e-39b0-49db-9338-fdcc67fc77f6",
   "metadata": {},
   "source": [
    "# Investigating Netflix Movies\n",
    "\n",
    "Exploratory data analysis of Netflix 1990s movies to identify trends in duration and short action films using Python and pandas.\n",
    "\n",
    "---\n",
    "\n",
    "## Project Overview\n",
    "This project was completed as part of my DataCamp coursework after finishing **Introduction to Python** and **Intermediate Python**.  \n",
    "The goal is to analyze a dataset (`netflix_data.csv`) and answer key questions about movies from the 1990s decade:  \n",
    "\n",
    "1. What was the most frequent movie duration in the 1990s?  \n",
    "2. How many **short action movies** (less than 90 minutes) were released in the 1990s?\n",
    "\n",
    "---\n",
    "\n",
    "## Skills Demonstrated\n",
    "- Python programming fundamentals  \n",
    "- Data manipulation with **pandas**  \n",
    "- Exploratory Data Analysis (EDA)  \n",
    "- Filtering and grouping data  \n",
    "- Basic statistics and counting\n",
    "\n",
    "---\n",
    "\n",
    "## Dataset\n",
    "- **File:** `netflix_data.csv`  \n",
    "- **Source:** Provided by DataCamp for educational purposes  \n",
    "- **Details:** Includes information about Netflix movies and TV shows (title, type, duration, release year, etc.)\n",
    "\n",
    "---\n",
    "\n",
    "## How to Run This Project\n",
    "\n",
    "### Requirements\n",
    "- Python 3.8 or higher\n",
    "- pandas\n",
    "- matplotlib (optional, for visualizations)\n",
    "- Jupyter Notebook (optional, for interactive use)\n",
    "\n",
    "### Steps\n",
    "```bash\n",
    "# Clone the repository\n",
    "git clone https://github.com/yourusername/investigating-netflix-movies.git\n",
    "\n",
    "# Go to the project folder\n",
    "cd investigating-netflix-movies\n",
    "\n",
    "# (Optional) Create a virtual environment and activate it\n",
    "\n",
    "# Install dependencies\n",
    "pip install pandas matplotlib jupyter\n"
   ]
  },
  {
   "cell_type": "markdown",
   "id": "78bcda8a-4aeb-4208-8294-2d686fd2d258",
   "metadata": {},
   "source": []
  },
  {
   "cell_type": "code",
   "execution_count": null,
   "id": "49122baa-0850-4af2-b583-aec8e84cea42",
   "metadata": {},
   "outputs": [],
   "source": []
  }
 ],
 "metadata": {
  "colab": {
   "name": "Welcome to DataCamp Workspaces.ipynb",
   "provenance": []
  },
  "editor": "DataLab",
  "kernelspec": {
   "display_name": "Python [conda env:base] *",
   "language": "python",
   "name": "conda-base-py"
  },
  "language_info": {
   "codemirror_mode": {
    "name": "ipython",
    "version": 3
   },
   "file_extension": ".py",
   "mimetype": "text/x-python",
   "name": "python",
   "nbconvert_exporter": "python",
   "pygments_lexer": "ipython3",
   "version": "3.12.7"
  }
 },
 "nbformat": 4,
 "nbformat_minor": 5
}
